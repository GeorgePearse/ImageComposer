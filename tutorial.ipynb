{
 "cells": [
  {
   "cell_type": "markdown",
   "id": "d5b38815-e8eb-4923-9301-3094f60e17d4",
   "metadata": {},
   "source": [
    "# Imports"
   ]
  },
  {
   "cell_type": "code",
   "execution_count": null,
   "id": "d5d45b30-20dd-4104-b9d5-f247ae017320",
   "metadata": {},
   "outputs": [],
   "source": [
    "import ImageComposer as ic "
   ]
  },
  {
   "cell_type": "markdown",
   "id": "ee4bdea2-4c15-4ee9-ab7a-dab608aebb59",
   "metadata": {},
   "source": [
    "# Plot a foregound object, with bounding box, on an image"
   ]
  },
  {
   "cell_type": "code",
   "execution_count": null,
   "id": "4cffa6dc-d9f4-4a96-af99-e18ae887a315",
   "metadata": {},
   "outputs": [],
   "source": [
    "bounding_box = ic.BoundingBox(160, 100, 190, 150,'can')\n",
    "foreground = ic.ForegroundObject(\"./original_can.png\", 150, 100)\n",
    "background = ic.Background(\"./conveyor_belt.jpeg\")\n",
    "\n",
    "annotated_image = ic.AnnotatedImage(\n",
    "    bounding_box, \n",
    "    foreground,\n",
    "    background \n",
    ")\n",
    "\n",
    "annotated_image.display()"
   ]
  },
  {
   "cell_type": "markdown",
   "id": "13907db4-7eda-4b69-9ea9-419eef778c6c",
   "metadata": {},
   "source": [
    "# Move the image and bounding box together"
   ]
  },
  {
   "cell_type": "code",
   "execution_count": null,
   "id": "2699d00c-2625-4fe9-86b3-ed45b65f26f5",
   "metadata": {},
   "outputs": [],
   "source": [
    "for x in range(0, 100):\n",
    "    annotated_image.shift(-1, -1)\n",
    "    annotated_image.display()"
   ]
  }
 ],
 "metadata": {
  "kernelspec": {
   "display_name": "Python 3 (ipykernel)",
   "language": "python",
   "name": "python3"
  },
  "language_info": {
   "codemirror_mode": {
    "name": "ipython",
    "version": 3
   },
   "file_extension": ".py",
   "mimetype": "text/x-python",
   "name": "python",
   "nbconvert_exporter": "python",
   "pygments_lexer": "ipython3",
   "version": "3.7.13"
  }
 },
 "nbformat": 4,
 "nbformat_minor": 5
}
